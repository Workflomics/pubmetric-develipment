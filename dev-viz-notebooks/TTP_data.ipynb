{
 "cells": [
  {
   "cell_type": "markdown",
   "metadata": {},
   "source": [
    "# Exploring metric scores on trans proteomic pipeline workflows "
   ]
  },
  {
   "cell_type": "code",
   "execution_count": 1,
   "metadata": {},
   "outputs": [],
   "source": [
    "import pandas as pd\n",
    "import sys\n",
    "import os\n",
    "import itertools\n",
    "import matplotlib.pyplot as plt\n",
    "import json\n",
    "\n",
    "sys.path.insert(0, os.path.abspath(os.path.join(os.getcwd(), '../src')))\n",
    "\n",
    "from wfqc.metrics import *\n",
    "from wfqc.network import create_network\n"
   ]
  },
  {
   "cell_type": "code",
   "execution_count": 2,
   "metadata": {},
   "outputs": [
    {
     "name": "stdout",
     "output_type": "stream",
     "text": [
      "Loading saved data.\n"
     ]
    }
   ],
   "source": [
    "graph = create_network(inpath='../out_202407041439')"
   ]
  },
  {
   "cell_type": "code",
   "execution_count": 39,
   "metadata": {},
   "outputs": [],
   "source": [
    "tpp_tools = pd.read_csv('../data/TPP.csv')\n",
    "tpp_tools = tpp_tools.dropna(subset=[\"id\"])"
   ]
  },
  {
   "cell_type": "code",
   "execution_count": 40,
   "metadata": {},
   "outputs": [],
   "source": [
    "tpp_tools['id'] = tpp_tools['id'].astype(int)\n",
    "tpp_tools['id'] = tpp_tools['id'].astype(str)\n",
    "tpp_tools['name'] = tpp_tools['name'].astype(str)"
   ]
  },
  {
   "cell_type": "code",
   "execution_count": 41,
   "metadata": {},
   "outputs": [
    {
     "data": {
      "text/plain": [
       "['name', 'position', 'id', 'comment']"
      ]
     },
     "execution_count": 41,
     "metadata": {},
     "output_type": "execute_result"
    }
   ],
   "source": [
    "list(tpp_tools.columns.values)"
   ]
  },
  {
   "cell_type": "markdown",
   "metadata": {},
   "source": [
    "## Looking at the connections between tools"
   ]
  },
  {
   "cell_type": "markdown",
   "metadata": {},
   "source": [
    "This is super messy, my apologies"
   ]
  },
  {
   "cell_type": "code",
   "execution_count": 43,
   "metadata": {},
   "outputs": [],
   "source": [
    "tools_by_positions = {}\n",
    "\n",
    "position_connections = {}\n",
    "\n",
    "\n",
    "for position in range(1, 7):\n",
    "    \n",
    "    tool_alternatives = tpp_tools[tpp_tools['position'] == position]['id'].tolist()\n",
    "    tool_alternatives_in_graph = [t for t in tool_alternatives if str(t) in graph.vs['name']]\n",
    "\n",
    "    # print(position, ':', len(tool_alternatives), len(tool_alternatives_in_graph))\n",
    "\n",
    "    connections = []\n",
    "    for i in range(len(tool_alternatives_in_graph)-1):\n",
    "        for j in range(i+1):\n",
    "            source = str(tool_alternatives_in_graph[i])\n",
    "            target = str(tool_alternatives_in_graph[j])\n",
    "            connections.append(get_graph_edge_weight(graph, (source, target)))\n",
    "\n",
    "    connection_dict = {\n",
    "        'nrtools': len(tool_alternatives),\n",
    "        'nrtoolsingraph': len(tool_alternatives_in_graph),\n",
    "        'connections': connections,\n",
    "\n",
    "    }\n",
    "\n",
    "    tools_by_positions[position]  = tool_alternatives\n",
    "    position_connections[position] = connection_dict"
   ]
  },
  {
   "cell_type": "code",
   "execution_count": 51,
   "metadata": {},
   "outputs": [
    {
     "name": "stdout",
     "output_type": "stream",
     "text": [
      "out of the 23 tools in the TPP as of today, 15 of them are present in the graph)\n",
      "[0.0, 64.0, 0.0, 155.0, 45.0, 0.0, 84.0, 35.0, 554.0, 1986.0, 0.0, 1.0, 0.0, 0.0, 6.0, 14.0, 11.0, 15.0, 24.0, 0.0, 0.0, 0.0, 417.0, 12.0, 0.0, 11.0, 84.0, 0.0]\n",
      "[64.0, 155.0, 45.0, 84.0, 35.0, 554.0, 1986.0, 1.0, 6.0, 14.0, 11.0, 15.0, 24.0, 417.0, 12.0, 11.0, 84.0]\n",
      "17\n",
      "206.94117647058823\n",
      "35.0\n"
     ]
    }
   ],
   "source": [
    "nr_tpp_tools = 3+9+3+6+1+1\n",
    "nr_tpp_tools_in_graph = 1+7+2+4+1+0\n",
    "print(f'out of the {nr_tpp_tools} tools in the TPP as of today, {nr_tpp_tools_in_graph} of them are present in the graph)')\n",
    "\n",
    "connections =[ v['connections'] for v in position_connections.values()]\n",
    "all_connections = []\n",
    "for v in connections:\n",
    "    for w in v:\n",
    "        all_connections.append(w)\n",
    "\n",
    "\n",
    "print(all_connections)\n",
    "print([c for c in all_connections if c]) \n",
    "print(len([c for c in all_connections if c]))\n",
    "print(np.mean([c for c in all_connections if c]))\n",
    "print(np.median([c for c in all_connections if c]))"
   ]
  },
  {
   "cell_type": "code",
   "execution_count": null,
   "metadata": {},
   "outputs": [],
   "source": []
  },
  {
   "cell_type": "code",
   "execution_count": 60,
   "metadata": {},
   "outputs": [
    {
     "name": "stdout",
     "output_type": "stream",
     "text": [
      "23\n",
      "15\n"
     ]
    }
   ],
   "source": [
    "tpp_list = tpp_tools['id'].tolist()\n",
    "print(len(tpp_list))\n",
    "tpp_tools_in_graph = [ t for t in tpp_list if str(t) in graph.vs['name']]\n",
    "print(len(tpp_tools_in_graph))\n",
    "\n",
    "connections=[]\n",
    "for i in range(len(tpp_tools_in_graph)-1):\n",
    "    for j in range(i+1):\n",
    "        source = str(tpp_tools_in_graph[i])\n",
    "        target = str(tpp_tools_in_graph[j])\n",
    "        connections.append(get_graph_edge_weight(graph, (source, target)))      "
   ]
  },
  {
   "cell_type": "code",
   "execution_count": 64,
   "metadata": {},
   "outputs": [
    {
     "name": "stdout",
     "output_type": "stream",
     "text": [
      "105\n",
      "85\n",
      "70.31428571428572\n",
      "8.0\n",
      "86.85882352941177\n",
      "15.0\n"
     ]
    }
   ],
   "source": [
    "print(len(connections))\n",
    "print(len( [c for c in connections if c] ))\n",
    "print(np.mean( connections))\n",
    "print(np.median( connections ))\n",
    "print(np.mean( [c for c in connections if c] ))\n",
    "print(np.median( [c for c in connections if c] ))\n"
   ]
  },
  {
   "cell_type": "markdown",
   "metadata": {},
   "source": [
    "## Generating all permutations "
   ]
  },
  {
   "cell_type": "markdown",
   "metadata": {},
   "source": [
    "There are 6 different positions, only one tool can be used in each position at a time, and there is a varying amount of choices per position. The method below creates all the permutations of possible tool combinations based on a list of position. "
   ]
  },
  {
   "cell_type": "code",
   "execution_count": 6,
   "metadata": {},
   "outputs": [],
   "source": [
    "def tool_permutations(tools_by_positions):\n",
    "    position_values = list(tools_by_positions.values())\n",
    "    all_combinations = list(itertools.product(*position_values))\n",
    "    return all_combinations\n",
    "\n",
    "def tuple_workflow_from_list(list_workflow):\n",
    "    tuple_workflow = []\n",
    "    number_tools = len(list_workflow)\n",
    "    for i in range(number_tools):\n",
    "        for j in range(i, number_tools):\n",
    "            tuple_workflow.append( ( list_workflow[i], list_workflow[j] ) )\n",
    "    return tuple_workflow\n"
   ]
  },
  {
   "cell_type": "code",
   "execution_count": 7,
   "metadata": {},
   "outputs": [],
   "source": [
    "tools_by_positions = {}\n",
    "for i in range(1, 7):\n",
    "    tools_by_positions[i] = tpp_tools[tpp_tools['position'] == i]['id'].tolist()"
   ]
  },
  {
   "cell_type": "code",
   "execution_count": 8,
   "metadata": {},
   "outputs": [],
   "source": [
    "all_combinations = tool_permutations(tools_by_positions)"
   ]
  },
  {
   "cell_type": "code",
   "execution_count": 9,
   "metadata": {},
   "outputs": [
    {
     "name": "stdout",
     "output_type": "stream",
     "text": [
      "486\n"
     ]
    }
   ],
   "source": [
    "print(len(all_combinations))"
   ]
  },
  {
   "cell_type": "code",
   "execution_count": 10,
   "metadata": {},
   "outputs": [],
   "source": [
    "# Define them as sets of tuples, edges, instead\n",
    "tuple_workflows = [tuple_workflow_from_list(workflow) for workflow in all_combinations]"
   ]
  },
  {
   "cell_type": "code",
   "execution_count": 188,
   "metadata": {},
   "outputs": [],
   "source": [
    "# calculate metric scores for each \n",
    "metric_scores = [complete_tree(graph, workflow) for workflow in tuple_workflows]"
   ]
  },
  {
   "cell_type": "code",
   "execution_count": 189,
   "metadata": {},
   "outputs": [
    {
     "data": {
      "image/png": "[encoded data removed]",
      "text/plain": [
       "<Figure size 640x480 with 1 Axes>"
      ]
     },
     "metadata": {},
     "output_type": "display_data"
    }
   ],
   "source": [
    "plt.hist(metric_scores, bins=100)\n",
    "plt.show()"
   ]
  },
  {
   "cell_type": "markdown",
   "metadata": {},
   "source": [
    "Position 3 choice of tool splits the dataset (PeptideProphet, PTMprophet and iProphet) so lets look at them each separately "
   ]
  },
  {
   "cell_type": "code",
   "execution_count": null,
   "metadata": {},
   "outputs": [],
   "source": [
    "pos_three_candidates = ['PeptideProphet', 'PTMprophet', 'iProphet']\n",
    "candidate_scores = []\n",
    "candidate_tuples = []\n",
    "for candidate in pos_three_candidates:\n",
    "    non_candidates = [c for c in pos_three_candidates if c != candidate]\n",
    "    tpp_tool_dropped_candidate = tpp_tools[tpp_tools['name']!= non_candidates[0]]\n",
    "    tpp_tool_dropped_candidate = tpp_tool_dropped_candidate[tpp_tool_dropped_candidate['name']!= non_candidates[1]]\n",
    "    tools_by_positions = {}\n",
    "    \n",
    "    for i in range(1, 7):\n",
    "        tools_by_positions[i] = tpp_tool_dropped_candidate[tpp_tool_dropped_candidate['position'] == i]['id'].tolist()\n",
    "\n",
    "    all_combinations = tool_permutations(tools_by_positions)\n",
    "    tuple_workflows = [tuple_workflow_from_list(workflow) for workflow in all_combinations]\n",
    "    metric_scores = [complete_tree(graph, workflow) for workflow in tuple_workflows]\n",
    "\n",
    "    candidate_tuples.append(tuple_workflows)\n",
    "    candidate_scores.append(metric_scores)"
   ]
  },
  {
   "cell_type": "code",
   "execution_count": 211,
   "metadata": {},
   "outputs": [
    {
     "data": {
      "image/png": "[encoded data removed]",
      "text/plain": [
       "<Figure size 640x480 with 1 Axes>"
      ]
     },
     "metadata": {},
     "output_type": "display_data"
    }
   ],
   "source": [
    "\n",
    "plt.hist(candidate_scores, bins=50, alpha=0.5, label=pos_three_candidates)\n",
    "plt.legend()\n",
    "plt.show()\n"
   ]
  },
  {
   "cell_type": "markdown",
   "metadata": {},
   "source": [
    "PeptideProphet is cited together with the other tools more often than PTM- and iProphet"
   ]
  },
  {
   "cell_type": "code",
   "execution_count": 11,
   "metadata": {},
   "outputs": [],
   "source": [
    "with open('../out_202407041439/edgestopic_0121.json', \"r\") as f: # as generated by create_network\n",
    "    citation_data_file = json.load(f)"
   ]
  },
  {
   "cell_type": "code",
   "execution_count": 27,
   "metadata": {},
   "outputs": [
    {
     "data": {
      "image/png": "[encoded data removed]",
      "text/plain": [
       "<Figure size 640x480 with 1 Axes>"
      ]
     },
     "metadata": {},
     "output_type": "display_data"
    }
   ],
   "source": [
    "# difference if using median \n",
    "pos_three_candidates = ['PeptideProphet', 'PTMprophet', 'iProphet']\n",
    "candidate_scores = []\n",
    "candidate_tuples = []\n",
    "\n",
    "for candidate in pos_three_candidates:\n",
    "    non_candidates = [c for c in pos_three_candidates if c != candidate]\n",
    "    tpp_tool_dropped_candidate = tpp_tools[tpp_tools['name']!= non_candidates[0]]\n",
    "    tpp_tool_dropped_candidate = tpp_tool_dropped_candidate[tpp_tool_dropped_candidate['name']!= non_candidates[1]]\n",
    "    tools_by_positions = {}\n",
    "    \n",
    "    for i in range(1, 7):\n",
    "        tools_by_positions[i] = tpp_tool_dropped_candidate[tpp_tool_dropped_candidate['position'] == i]['id'].tolist()\n",
    "\n",
    "    all_combinations = tool_permutations(tools_by_positions)\n",
    "    tuple_workflows = [tuple_workflow_from_list(workflow) for workflow in all_combinations]\n",
    "    metric_scores = [median_citations( workflow, citation_data_file) for workflow in tuple_workflows]\n",
    "\n",
    "    candidate_tuples.append(tuple_workflows)\n",
    "    candidate_scores.append(metric_scores)\n",
    "\n",
    "plt.hist(candidate_scores, bins=50, alpha=0.5, label=pos_three_candidates)\n",
    "plt.legend()\n",
    "plt.show()\n"
   ]
  },
  {
   "cell_type": "markdown",
   "metadata": {},
   "source": [
    "Using the citation metric there is not the same split"
   ]
  }
 ],
 "metadata": {
  "kernelspec": {
   "display_name": "WFQC",
   "language": "python",
   "name": "python3"
  },
  "language_info": {
   "codemirror_mode": {
    "name": "ipython",
    "version": 3
   },
   "file_extension": ".py",
   "mimetype": "text/x-python",
   "name": "python",
   "nbconvert_exporter": "python",
   "pygments_lexer": "ipython3",
   "version": "3.9.19"
  }
 },
 "nbformat": 4,
 "nbformat_minor": 2
}
